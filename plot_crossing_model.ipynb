{
 "cells": [
  {
   "cell_type": "code",
   "execution_count": 298,
   "metadata": {},
   "outputs": [],
   "source": [
    "import os\n",
    "import itertools\n",
    "import numpy as np\n",
    "import pandas as pd\n",
    "import networkx as nx\n",
    "from distinctipy import distinctipy\n",
    "import matplotlib.pyplot as plt\n",
    "from matplotlib.patches import Rectangle\n",
    "from matplotlib import cm\n",
    "\n",
    "from shapely.geometry import Polygon\n",
    "\n",
    "from importlib import reload\n",
    "import tilings\n",
    "tilings = reload(tilings)\n",
    "from tilings import Tiling, TilingGroup\n",
    "\n",
    "import CrossingModel\n",
    "CrossingModel = reload(CrossingModel)\n",
    "from CrossingModel import CrossingModel\n",
    "%matplotlib inline"
   ]
  },
  {
   "cell_type": "code",
   "execution_count": 299,
   "metadata": {},
   "outputs": [],
   "source": [
    "def plot_tiling(t, ax=None, color='k', linestyle='--', linewidth=1):\n",
    "    if not ax:\n",
    "        ax = plt.figure().gca()\n",
    "        \n",
    "    for e in t.edges[0]:\n",
    "        _ = ax.axvline(e, color=color, linestyle=linestyle, linewidth=linewidth)\n",
    "    for e in t.edges[1]:\n",
    "        _ = ax.axhline(e, color=color, linestyle=linestyle, linewidth=linewidth)\n",
    "        \n",
    "    ax.set_xlim(t.limits[0])\n",
    "    ax.set_ylim(t.limits[1])"
   ]
  },
  {
   "cell_type": "code",
   "execution_count": 300,
   "metadata": {},
   "outputs": [],
   "source": [
    "def plot_state(s, ax=None, fig = None, color='r', marker='o', markersize=8):\n",
    "    axs = [ax]\n",
    "    if fig is not None:\n",
    "        axs = fig.get_axes()\n",
    "    elif not ax:\n",
    "        axs = [plt.figure().gca()]\n",
    "    _ = axs[0].plot(s[0], s[1], color=color, marker=marker, markersize=markersize)"
   ]
  },
  {
   "cell_type": "code",
   "execution_count": 301,
   "metadata": {},
   "outputs": [],
   "source": [
    "def bounds_from_dims(t, dims):\n",
    "    if dims[0] == t.ntiles[0]-1:\n",
    "        right = t.limits[0][1]\n",
    "    else:\n",
    "        right = t.edges[0][dims[0]]\n",
    "    if dims[0] == 0:\n",
    "        left = t.limits[0][0]\n",
    "    else:\n",
    "        left = t.edges[0][dims[0]-1]\n",
    "\n",
    "    if dims[1] == t.ntiles[1]-1:\n",
    "        top = t.limits[1][1]\n",
    "    else:\n",
    "        top = t.edges[1][dims[1]]\n",
    "    if dims[1] == 0:\n",
    "        bottom = t.limits[1][0]\n",
    "    else:\n",
    "        bottom = t.edges[1][dims[1]-1]\n",
    "\n",
    "    bounds = (left, bottom, right, top)\n",
    "\n",
    "    return bounds\n",
    "\n",
    "def state_bounds(s, t):\n",
    "    dims = t.tile_dims(s)\n",
    "    bounds = bounds_from_dims(t, dims)\n",
    "    return bounds\n",
    "\n",
    "\n",
    "def feature_bounds(f, t):\n",
    "    dims = t.dims_from_feature(f)\n",
    "    bounds = bounds_from_dims(t, dims)\n",
    "    return bounds"
   ]
  },
  {
   "cell_type": "code",
   "execution_count": 302,
   "metadata": {},
   "outputs": [],
   "source": [
    "def highlight_tile(s, t, ax=None, color='r', alpha=0.3):\n",
    "    if not ax:\n",
    "        ax = plt.figure().gca()\n",
    "    left, bottom, right, top = state_tile(s, t)\n",
    "    r = Rectangle((left, bottom), right-left, top-bottom, color=color, alpha=alpha)\n",
    "    _ = ax.add_patch(r)"
   ]
  },
  {
   "cell_type": "code",
   "execution_count": 303,
   "metadata": {},
   "outputs": [],
   "source": [
    "def plot_tiling_group(tg, ax=None, linewidth=0.5, colors=None):\n",
    "    if not ax:\n",
    "        ax = plt.figure().gca()\n",
    "    if not colors:\n",
    "        colors = distinctipy.get_colors(tg.ntilings)\n",
    "    \n",
    "    for i, t in enumerate(tg.tilings):\n",
    "        plot_tiling(t, ax=ax, color=colors[i], linestyle='-', linewidth=linewidth)"
   ]
  },
  {
   "cell_type": "code",
   "execution_count": 304,
   "metadata": {},
   "outputs": [],
   "source": [
    "def bounds_intersection(a, b):\n",
    "    x1 = max(min(a[0], a[2]), min(b[0], b[2]))\n",
    "    y1 = max(min(a[1], a[3]), min(b[1], b[3]))\n",
    "    x2 = min(max(a[0], a[2]), max(b[0], b[2]))\n",
    "    y2 = min(max(a[1], a[3]), max(b[1], b[3]))\n",
    "    if x1<x2 and y1<y2:\n",
    "        return (x1, y1, x2, y2)"
   ]
  },
  {
   "cell_type": "code",
   "execution_count": 305,
   "metadata": {},
   "outputs": [],
   "source": [
    "def highlight_tiling_group(tg, s = None, f = None, ax=None, linewidth=0.5, colors=None, alpha=0.3, op = 'union'):\n",
    "    '''Get tile corresponding to state in each of the tilings in the group. Combine these tiles using the op operation.\n",
    "    Plot the combined tile\n",
    "    '''\n",
    "\n",
    "    if not ax:\n",
    "        ax = plt.figure().gca()\n",
    "    if not colors:\n",
    "        colors = distinctipy.get_colors(tg.ntilings)\n",
    "\n",
    "    rects = []\n",
    "    for i,t in enumerate(tg.tilings):\n",
    "        if s is not None:\n",
    "            r_bounds = state_bounds(s, t)\n",
    "        else:\n",
    "            fi = tg.decompose_feature(f)[i]\n",
    "            r_bounds = feature_bounds(fi, t)\n",
    "        rects.append(r_bounds)\n",
    "\n",
    "    # Now choose what to plot\n",
    "    if op == 'union':\n",
    "        for i, bounds in enumerate(rects):\n",
    "            r = Rectangle((bounds[0], bounds[1]), bounds[2] - bounds[0], bounds[3] - bounds[1], color=colors[0], alpha=alpha)\n",
    "            _ = ax.add_patch(r)\n",
    "    else:\n",
    "        # Find intersection between rectangles\n",
    "        bounds = rects[0]\n",
    "        for b_ in rects:\n",
    "            bounds = bounds_intersection(bounds, b_)\n",
    "        # Plot resulting rectanlge\n",
    "        if bounds is not None:\n",
    "            r = Rectangle((bounds[0], bounds[1]), bounds[2] - bounds[0], bounds[3] - bounds[1], color=colors[0], alpha=alpha)\n",
    "            _ = ax.add_patch(r)\n",
    "        else:\n",
    "            pass #print(rects)"
   ]
  },
  {
   "cell_type": "code",
   "execution_count": 306,
   "metadata": {},
   "outputs": [],
   "source": [
    "def unpack_feature_values(features, w = None, N = None):\n",
    "    values = []\n",
    "    n_visits = []\n",
    "    for f in features:\n",
    "        if w is not None:\n",
    "            q = np.matmul(f, w)\n",
    "            values.append(q)\n",
    "        if N is not None:\n",
    "            num = np.matmul(f, N) / np.matmul(f,f)\n",
    "            n_visits.append(num)\n",
    "    return {'values':values, 'n_visits':n_visits}"
   ]
  },
  {
   "cell_type": "code",
   "execution_count": 307,
   "metadata": {},
   "outputs": [],
   "source": [
    "def plot_feature_values(tg, features, values, figsize, ax = None, nbins = 10, cmap = 'viridis', alpha = 0.5, op = 'union'):\n",
    "    \n",
    "    # Bin values and get colours for each bin\n",
    "    hist, bin_edges = np.histogram(values, bins = nbins)\n",
    "    value_colors = cm.get_cmap(name = cmap, lut = len(bin_edges)).colors\n",
    "    \n",
    "    if not ax:\n",
    "        ax = plt.figure(figsize=figsize).gca()\n",
    "    \n",
    "    colors = distinctipy.get_colors(tg.ntilings)\n",
    "    _ = plot_tiling_group(tg, ax=ax, linewidth=0.5, colors=colors)\n",
    "\n",
    "    for i, f in enumerate(features):\n",
    "        # Get bin\n",
    "        bin_ind = np.digitize(values[i], bin_edges) - 1\n",
    "        c = value_colors[bin_ind][:-1]\n",
    "        c = tuple(np.append(c, alpha))\n",
    "        _ = highlight_tiling_group(tg, f=f, ax=ax, colors=[c], op = op)\n",
    "    return ax"
   ]
  },
  {
   "cell_type": "code",
   "execution_count": 308,
   "metadata": {},
   "outputs": [],
   "source": [
    "def plot_ped_feature_values(ped, figsize, nbins = 10, cmaps = ['viridis', 'magma'], alpha = 0.5, op = 'union'):\n",
    "    # Average over actions\n",
    "    w_av = ped._w.mean(axis = 1)\n",
    "    N_av = ped._N.mean(axis = 1)\n",
    "    # Loop through the nodes of the MDP - these are all the states\n",
    "    features = list(ped._env.road_env._tg.all_features())\n",
    "    unpacked = unpack_feature_values(features, w = w_av, N = N_av)\n",
    "    \n",
    "    fig, (ax1, ax2) = plt.subplots(2,1,figsize=figsize)\n",
    "    \n",
    "    ax1 = plot_feature_values(ped._env.road_env._tg, features, unpacked['values'], figsize, ax = ax1, nbins = nbins, cmap = cmaps[0], alpha = alpha, op = op)\n",
    "    \n",
    "    ax2 = plot_feature_values(ped._env.road_env._tg, features, unpacked['n_visits'], figsize, ax = ax2, nbins = nbins, cmap = cmaps[1], alpha = alpha, op = op)\n",
    "\n",
    "    return fig\n",
    "    "
   ]
  },
  {
   "cell_type": "markdown",
   "metadata": {},
   "source": [
    "## Initialise road model with single pedestrian"
   ]
  },
  {
   "cell_type": "code",
   "execution_count": 316,
   "metadata": {},
   "outputs": [],
   "source": [
    "# Road parameters\n",
    "road_length = 50\n",
    "road_width = 5\n",
    "n_lanes = 1\n",
    "vehicle_flow = 3\n",
    "\n",
    "# Ped parameters\n",
    "o = (0,0)\n",
    "d = (road_length*0.5, road_width)\n",
    "speed = 1.5\n",
    "b = 0\n",
    "g = 0.7\n",
    "a = 0.05\n",
    "\n",
    "cross_model = CrossingModel(road_length, road_width, vehicle_flow, n_lanes, o, d, g, a, speed)\n",
    "\n",
    "# Get ped and road\n",
    "\n",
    "ped = cross_model.getPed()\n",
    "road = cross_model.getRoad()"
   ]
  },
  {
   "cell_type": "markdown",
   "metadata": {},
   "source": [
    "## Plot tilings for this environment\n",
    "\n",
    "Also plot the states: pedestrian starting location, destionation and unsignalised crossing"
   ]
  },
  {
   "cell_type": "code",
   "execution_count": 310,
   "metadata": {
    "scrolled": true
   },
   "outputs": [
    {
     "data": {
      "image/png": "[encoded data removed]",
      "text/plain": [
       "<Figure size 1800x180 with 1 Axes>"
      ]
     },
     "metadata": {
      "needs_background": "light"
     },
     "output_type": "display_data"
    }
   ],
   "source": [
    "ax = plt.figure(figsize=(road_length*0.5, road_width * 0.5)).gca()\n",
    "colors = distinctipy.get_colors(ped._env.road_env._tg.ntilings)\n",
    "\n",
    "plot_tiling_group(ped._env.road_env._tg, ax=ax, linewidth=0.5, colors=colors)\n",
    "\n",
    "states = [ped._loc, d] + road.getCrossingCoords()\n",
    "state_colors = ['blue', 'red'] + ['grey']*len(road.getCrossingCoords())\n",
    "for i, s in enumerate(states):\n",
    "    c = state_colors[i]\n",
    "    highlight_tiling_group(ped._env.road_env._tg, s=s, ax=ax, colors=[c], op = 'intersection') \n",
    "    plot_state(s, ax=ax, color='k')"
   ]
  },
  {
   "cell_type": "markdown",
   "metadata": {},
   "source": [
    "## Train agent and plot resulting value function"
   ]
  },
  {
   "cell_type": "markdown",
   "metadata": {},
   "source": [
    "* 1 training step\n",
    "* 1 planning step per training step"
   ]
  },
  {
   "cell_type": "code",
   "execution_count": 311,
   "metadata": {},
   "outputs": [],
   "source": [
    "training_steps = 2\n",
    "planning_steps = 1\n",
    "for i in range(training_steps):\n",
    "\tped.dyna_step(nplanningsteps=planning_steps)"
   ]
  },
  {
   "cell_type": "code",
   "execution_count": 312,
   "metadata": {
    "scrolled": true
   },
   "outputs": [
    {
     "data": {
      "image/png": "[encoded data removed]",
      "text/plain": [
       "<Figure size 1800x360 with 2 Axes>"
      ]
     },
     "metadata": {
      "needs_background": "light"
     },
     "output_type": "display_data"
    }
   ],
   "source": [
    "# issue with some rect not being intersected and therefore printing the bounds. I think caused by bounds for some features not correct, eg 5.5 bottom and 5 top doesn't seem right\n",
    "figsize = (road_length*0.5, road_width)\n",
    "fig = plot_ped_feature_values(ped, figsize, nbins = 10, cmaps = ['viridis', 'magma'], alpha = 0.5, op = 'intersection')"
   ]
  },
  {
   "cell_type": "markdown",
   "metadata": {},
   "source": [
    "* train for several epochs\n",
    "* 1 planning step for dyna step"
   ]
  },
  {
   "cell_type": "code",
   "execution_count": 317,
   "metadata": {},
   "outputs": [],
   "source": [
    "nepochs = 100\n",
    "planning_steps = 1\n",
    "i=0\n",
    "while ped._nepochs < nepochs:\n",
    "    i+=1\n",
    "    ped.train(nplanningsteps=planning_steps)"
   ]
  },
  {
   "cell_type": "code",
   "execution_count": 318,
   "metadata": {},
   "outputs": [
    {
     "data": {
      "image/png": "[encoded data removed]",
      "text/plain": [
       "<Figure size 1800x360 with 2 Axes>"
      ]
     },
     "metadata": {
      "needs_background": "light"
     },
     "output_type": "display_data"
    }
   ],
   "source": [
    "figsize = (road_length*0.5, road_width)\n",
    "fig = plot_ped_feature_values(ped, figsize, nbins = 10, cmaps = ['viridis', 'magma'], alpha = 0.5, op = 'intersection')"
   ]
  }
 ],
 "metadata": {
  "kernelspec": {
   "display_name": "Python 3",
   "language": "python",
   "name": "python3"
  },
  "language_info": {
   "codemirror_mode": {
    "name": "ipython",
    "version": 3
   },
   "file_extension": ".py",
   "mimetype": "text/x-python",
   "name": "python",
   "nbconvert_exporter": "python",
   "pygments_lexer": "ipython3",
   "version": "3.8.2"
  }
 },
 "nbformat": 4,
 "nbformat_minor": 4
}
